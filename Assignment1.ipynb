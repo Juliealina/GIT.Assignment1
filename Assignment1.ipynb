version https://git-lfs.github.com/spec/v1
oid sha256:69c9428d39b718d56899d8c165115e8c3520e1a9cbc54ceaba4813b3fd0f0623
size 199455044
